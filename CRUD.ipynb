{
 "cells": [
  {
   "cell_type": "code",
   "execution_count": 1,
   "id": "2986e731",
   "metadata": {},
   "outputs": [
    {
     "name": "stdout",
     "output_type": "stream",
     "text": [
      "Requirement already satisfied: mysql-connector-python in c:\\users\\wellw\\anaconda3\\lib\\site-packages (8.0.32)\n",
      "Collecting protobuf<=3.20.3,>=3.11.0\n",
      "  Downloading protobuf-3.20.3-cp39-cp39-win_amd64.whl (904 kB)\n",
      "     ------------------------------------ 904.2/904.2 kB 794.6 kB/s eta 0:00:00\n",
      "Installing collected packages: protobuf\n",
      "Successfully installed protobuf-3.20.3\n",
      "Note: you may need to restart the kernel to use updated packages.\n"
     ]
    }
   ],
   "source": [
    "pip install mysql-connector-python"
   ]
  },
  {
   "cell_type": "code",
   "execution_count": 4,
   "id": "3d990431",
   "metadata": {},
   "outputs": [],
   "source": [
    "import mysql.connector\n",
    "\n",
    "##conexao com o banco e cursor para iniciar a conexao\n",
    "conexao = mysql.connector.connect (\n",
    "    host='localhost',\n",
    "    user='root',\n",
    "    password='wy2590wy',\n",
    "    database='bdcrudinit',\n",
    ")\n",
    "\n",
    "cursor = conexao.cursor()\n",
    "\n",
    "##CRUD\n",
    "\n",
    "#Create\n",
    "\n",
    "#nome_produto = \"chocolate\"\n",
    "#valor = 15\n",
    "#comando = f'INSERT INTO vendas (nome_produto, valor) VALUES (\"{nome_produto}\", {valor}) '\n",
    "#cursor.execute(comando)\n",
    "#conexao.commit() ##quando editar o banco de dados CUD\n",
    "\n",
    "\n",
    "#Read\n",
    "\n",
    "#comando = f'SELECT * FROM vendas'\n",
    "#cursor.execute(comando)\n",
    "#resultado = cursor.fetchall() ##ler o banco de dados R\n",
    "\n",
    "#print (resultado)\n",
    "\n",
    "#Update\n",
    "\n",
    "#nome_produto = \"toddynho\"\n",
    "#valor = 6\n",
    "#comando = f'UPDATE vendas SET valor = {valor} WHERE nome_produto = \"{nome_produto}\" '\n",
    "#cursor.execute(comando)\n",
    "#conexao.commit() ##quando editar o banco de dados CUD\n",
    "\n",
    "#Delete\n",
    "\n",
    "#nome_produto = \"toddynho\"\n",
    "#comando = f'DELETE FROM vendas WHERE nome_produto = \"{nome_produto}\" '\n",
    "#cursor.execute(comando)\n",
    "#onexao.commit() ##quando editar o banco de dados CUD\n",
    "\n",
    "\n",
    "cursor.close()\n",
    "conexao.close()\n"
   ]
  }
 ],
 "metadata": {
  "kernelspec": {
   "display_name": "Python 3 (ipykernel)",
   "language": "python",
   "name": "python3"
  },
  "language_info": {
   "codemirror_mode": {
    "name": "ipython",
    "version": 3
   },
   "file_extension": ".py",
   "mimetype": "text/x-python",
   "name": "python",
   "nbconvert_exporter": "python",
   "pygments_lexer": "ipython3",
   "version": "3.9.13"
  }
 },
 "nbformat": 4,
 "nbformat_minor": 5
}
